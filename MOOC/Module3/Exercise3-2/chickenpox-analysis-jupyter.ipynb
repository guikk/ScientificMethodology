{
 "cells": [
  {
   "cell_type": "markdown",
   "metadata": {},
   "source": [
    "# Incidence of chickenpox in France"
   ]
  },
  {
   "cell_type": "code",
   "execution_count": 2,
   "metadata": {},
   "outputs": [],
   "source": [
    "%matplotlib inline\n",
    "import matplotlib.pyplot as plt\n",
    "import pandas as pd\n",
    "import isoweek\n",
    "import os.path\n",
    "from os import path"
   ]
  },
  {
   "cell_type": "markdown",
   "metadata": {},
   "source": [
    "The data on the incidence of chickenpox are available from the Web site of the [Réseau Sentinelles](http://www.sentiweb.fr/). We download them as a file in CSV format, in which each line corresponds to a week in the observation period. Only the complete dataset, starting in 1991 and ending with a recent week, is available for download."
   ]
  },
  {
   "cell_type": "code",
   "execution_count": 3,
   "metadata": {},
   "outputs": [
    {
     "name": "stdout",
     "output_type": "stream",
     "text": [
      "--2022-10-28 18:36:11--  http://www.sentiweb.fr/datasets/incidence-PAY-7.csv\n",
      "Resolving www.sentiweb.fr (www.sentiweb.fr)... 134.157.220.17\n",
      "Connecting to www.sentiweb.fr (www.sentiweb.fr)|134.157.220.17|:80... connected.\n",
      "HTTP request sent, awaiting response... 200 OK\n",
      "Length: 73335 (72K) [text/csv]\n",
      "Saving to: ‘data.csv’\n",
      "\n",
      "data.csv            100%[===================>]  71.62K  --.-KB/s    in 0.02s   \n",
      "\n",
      "2022-10-28 18:36:11 (3.42 MB/s) - ‘data.csv’ saved [73335/73335]\n",
      "\n"
     ]
    }
   ],
   "source": [
    "if not path.exists(\"data.csv\"):\n",
    "    !wget http://www.sentiweb.fr/datasets/incidence-PAY-7.csv -O data.csv"
   ]
  },
  {
   "cell_type": "markdown",
   "metadata": {},
   "source": [
    "This is the documentation of the data from [the download site](https://ns.sentiweb.fr/incidence/csv-schema-v1.json):\n",
    "\n",
    "| Column name  | Description                                                                                                               |\n",
    "|--------------|---------------------------------------------------------------------------------------------------------------------------|\n",
    "| `week`       | ISO8601 Yearweek number as numeric (year times 100 + week nubmer)                                                               |\n",
    "| `indicator`  | Unique identifier of the indicator, see metadata document https://www.sentiweb.fr/meta.json                               |\n",
    "| `inc`        | Estimated incidence value for the time step, in the geographic level                                                      |\n",
    "| `inc_low`    | Lower bound of the estimated incidence 95% Confidence Interval                                                            |\n",
    "| `inc_up`     | Upper bound of the estimated incidence 95% Confidence Interval                                                            |\n",
    "| `inc100`     | Estimated rate incidence per 100,000 inhabitants                                                                          |\n",
    "| `inc100_low` | Lower bound of the estimated incidence 95% Confidence Interval                                                            |\n",
    "| `inc100_up`  | Upper bound of the estimated rate incidence 95% Confidence Interval                                                       |\n",
    "| `geo_insee`  | Identifier of the geographic area, from INSEE https://www.insee.fr                                                        |\n",
    "| `geo_name`   | Geographic label of the area, corresponding to INSEE code. This label is not an id and is only provided for human reading |\n",
    "\n",
    "The first line of the CSV file is a comment, which we ignore with `skip=1`."
   ]
  },
  {
   "cell_type": "code",
   "execution_count": 4,
   "metadata": {},
   "outputs": [
    {
     "data": {
      "text/html": [
       "<div>\n",
       "<style scoped>\n",
       "    .dataframe tbody tr th:only-of-type {\n",
       "        vertical-align: middle;\n",
       "    }\n",
       "\n",
       "    .dataframe tbody tr th {\n",
       "        vertical-align: top;\n",
       "    }\n",
       "\n",
       "    .dataframe thead th {\n",
       "        text-align: right;\n",
       "    }\n",
       "</style>\n",
       "<table border=\"1\" class=\"dataframe\">\n",
       "  <thead>\n",
       "    <tr style=\"text-align: right;\">\n",
       "      <th></th>\n",
       "      <th>week</th>\n",
       "      <th>indicator</th>\n",
       "      <th>inc</th>\n",
       "      <th>inc_low</th>\n",
       "      <th>inc_up</th>\n",
       "      <th>inc100</th>\n",
       "      <th>inc100_low</th>\n",
       "      <th>inc100_up</th>\n",
       "      <th>geo_insee</th>\n",
       "      <th>geo_name</th>\n",
       "    </tr>\n",
       "  </thead>\n",
       "  <tbody>\n",
       "    <tr>\n",
       "      <th>0</th>\n",
       "      <td>202242</td>\n",
       "      <td>7</td>\n",
       "      <td>3450</td>\n",
       "      <td>1419</td>\n",
       "      <td>5481</td>\n",
       "      <td>5</td>\n",
       "      <td>2</td>\n",
       "      <td>8</td>\n",
       "      <td>FR</td>\n",
       "      <td>France</td>\n",
       "    </tr>\n",
       "    <tr>\n",
       "      <th>1</th>\n",
       "      <td>202241</td>\n",
       "      <td>7</td>\n",
       "      <td>4125</td>\n",
       "      <td>2177</td>\n",
       "      <td>6073</td>\n",
       "      <td>6</td>\n",
       "      <td>3</td>\n",
       "      <td>9</td>\n",
       "      <td>FR</td>\n",
       "      <td>France</td>\n",
       "    </tr>\n",
       "    <tr>\n",
       "      <th>2</th>\n",
       "      <td>202240</td>\n",
       "      <td>7</td>\n",
       "      <td>4883</td>\n",
       "      <td>1472</td>\n",
       "      <td>8294</td>\n",
       "      <td>7</td>\n",
       "      <td>2</td>\n",
       "      <td>12</td>\n",
       "      <td>FR</td>\n",
       "      <td>France</td>\n",
       "    </tr>\n",
       "    <tr>\n",
       "      <th>3</th>\n",
       "      <td>202239</td>\n",
       "      <td>7</td>\n",
       "      <td>2041</td>\n",
       "      <td>331</td>\n",
       "      <td>3751</td>\n",
       "      <td>3</td>\n",
       "      <td>0</td>\n",
       "      <td>6</td>\n",
       "      <td>FR</td>\n",
       "      <td>France</td>\n",
       "    </tr>\n",
       "    <tr>\n",
       "      <th>4</th>\n",
       "      <td>202238</td>\n",
       "      <td>7</td>\n",
       "      <td>1771</td>\n",
       "      <td>419</td>\n",
       "      <td>3123</td>\n",
       "      <td>3</td>\n",
       "      <td>1</td>\n",
       "      <td>5</td>\n",
       "      <td>FR</td>\n",
       "      <td>France</td>\n",
       "    </tr>\n",
       "    <tr>\n",
       "      <th>...</th>\n",
       "      <td>...</td>\n",
       "      <td>...</td>\n",
       "      <td>...</td>\n",
       "      <td>...</td>\n",
       "      <td>...</td>\n",
       "      <td>...</td>\n",
       "      <td>...</td>\n",
       "      <td>...</td>\n",
       "      <td>...</td>\n",
       "      <td>...</td>\n",
       "    </tr>\n",
       "    <tr>\n",
       "      <th>1659</th>\n",
       "      <td>199101</td>\n",
       "      <td>7</td>\n",
       "      <td>15565</td>\n",
       "      <td>10271</td>\n",
       "      <td>20859</td>\n",
       "      <td>27</td>\n",
       "      <td>18</td>\n",
       "      <td>36</td>\n",
       "      <td>FR</td>\n",
       "      <td>France</td>\n",
       "    </tr>\n",
       "    <tr>\n",
       "      <th>1660</th>\n",
       "      <td>199052</td>\n",
       "      <td>7</td>\n",
       "      <td>19375</td>\n",
       "      <td>13295</td>\n",
       "      <td>25455</td>\n",
       "      <td>34</td>\n",
       "      <td>23</td>\n",
       "      <td>45</td>\n",
       "      <td>FR</td>\n",
       "      <td>France</td>\n",
       "    </tr>\n",
       "    <tr>\n",
       "      <th>1661</th>\n",
       "      <td>199051</td>\n",
       "      <td>7</td>\n",
       "      <td>19080</td>\n",
       "      <td>13807</td>\n",
       "      <td>24353</td>\n",
       "      <td>34</td>\n",
       "      <td>25</td>\n",
       "      <td>43</td>\n",
       "      <td>FR</td>\n",
       "      <td>France</td>\n",
       "    </tr>\n",
       "    <tr>\n",
       "      <th>1662</th>\n",
       "      <td>199050</td>\n",
       "      <td>7</td>\n",
       "      <td>11079</td>\n",
       "      <td>6660</td>\n",
       "      <td>15498</td>\n",
       "      <td>20</td>\n",
       "      <td>12</td>\n",
       "      <td>28</td>\n",
       "      <td>FR</td>\n",
       "      <td>France</td>\n",
       "    </tr>\n",
       "    <tr>\n",
       "      <th>1663</th>\n",
       "      <td>199049</td>\n",
       "      <td>7</td>\n",
       "      <td>1143</td>\n",
       "      <td>0</td>\n",
       "      <td>2610</td>\n",
       "      <td>2</td>\n",
       "      <td>0</td>\n",
       "      <td>5</td>\n",
       "      <td>FR</td>\n",
       "      <td>France</td>\n",
       "    </tr>\n",
       "  </tbody>\n",
       "</table>\n",
       "<p>1664 rows × 10 columns</p>\n",
       "</div>"
      ],
      "text/plain": [
       "        week  indicator    inc  inc_low  inc_up  inc100  inc100_low  \\\n",
       "0     202242          7   3450     1419    5481       5           2   \n",
       "1     202241          7   4125     2177    6073       6           3   \n",
       "2     202240          7   4883     1472    8294       7           2   \n",
       "3     202239          7   2041      331    3751       3           0   \n",
       "4     202238          7   1771      419    3123       3           1   \n",
       "...      ...        ...    ...      ...     ...     ...         ...   \n",
       "1659  199101          7  15565    10271   20859      27          18   \n",
       "1660  199052          7  19375    13295   25455      34          23   \n",
       "1661  199051          7  19080    13807   24353      34          25   \n",
       "1662  199050          7  11079     6660   15498      20          12   \n",
       "1663  199049          7   1143        0    2610       2           0   \n",
       "\n",
       "      inc100_up geo_insee geo_name  \n",
       "0             8        FR   France  \n",
       "1             9        FR   France  \n",
       "2            12        FR   France  \n",
       "3             6        FR   France  \n",
       "4             5        FR   France  \n",
       "...         ...       ...      ...  \n",
       "1659         36        FR   France  \n",
       "1660         45        FR   France  \n",
       "1661         43        FR   France  \n",
       "1662         28        FR   France  \n",
       "1663          5        FR   France  \n",
       "\n",
       "[1664 rows x 10 columns]"
      ]
     },
     "execution_count": 4,
     "metadata": {},
     "output_type": "execute_result"
    }
   ],
   "source": [
    "raw_data = pd.read_csv(\"data.csv\", encoding = 'iso-8859-1', skiprows=1)\n",
    "raw_data"
   ]
  },
  {
   "cell_type": "markdown",
   "metadata": {},
   "source": [
    "Are there missing data points? No, all weeks have observed values."
   ]
  },
  {
   "cell_type": "code",
   "execution_count": 5,
   "metadata": {},
   "outputs": [
    {
     "data": {
      "text/html": [
       "<div>\n",
       "<style scoped>\n",
       "    .dataframe tbody tr th:only-of-type {\n",
       "        vertical-align: middle;\n",
       "    }\n",
       "\n",
       "    .dataframe tbody tr th {\n",
       "        vertical-align: top;\n",
       "    }\n",
       "\n",
       "    .dataframe thead th {\n",
       "        text-align: right;\n",
       "    }\n",
       "</style>\n",
       "<table border=\"1\" class=\"dataframe\">\n",
       "  <thead>\n",
       "    <tr style=\"text-align: right;\">\n",
       "      <th></th>\n",
       "      <th>week</th>\n",
       "      <th>indicator</th>\n",
       "      <th>inc</th>\n",
       "      <th>inc_low</th>\n",
       "      <th>inc_up</th>\n",
       "      <th>inc100</th>\n",
       "      <th>inc100_low</th>\n",
       "      <th>inc100_up</th>\n",
       "      <th>geo_insee</th>\n",
       "      <th>geo_name</th>\n",
       "    </tr>\n",
       "  </thead>\n",
       "  <tbody>\n",
       "  </tbody>\n",
       "</table>\n",
       "</div>"
      ],
      "text/plain": [
       "Empty DataFrame\n",
       "Columns: [week, indicator, inc, inc_low, inc_up, inc100, inc100_low, inc100_up, geo_insee, geo_name]\n",
       "Index: []"
      ]
     },
     "execution_count": 5,
     "metadata": {},
     "output_type": "execute_result"
    }
   ],
   "source": [
    "raw_data[raw_data.isnull().any(axis=1)]"
   ]
  },
  {
   "cell_type": "markdown",
   "metadata": {},
   "source": [
    "~We delete this point, which does not have big consequence for our rather simple analysis.~\n",
    "\n",
    "There's no incomplete data to delete"
   ]
  },
  {
   "cell_type": "code",
   "execution_count": 6,
   "metadata": {},
   "outputs": [
    {
     "data": {
      "text/html": [
       "<div>\n",
       "<style scoped>\n",
       "    .dataframe tbody tr th:only-of-type {\n",
       "        vertical-align: middle;\n",
       "    }\n",
       "\n",
       "    .dataframe tbody tr th {\n",
       "        vertical-align: top;\n",
       "    }\n",
       "\n",
       "    .dataframe thead th {\n",
       "        text-align: right;\n",
       "    }\n",
       "</style>\n",
       "<table border=\"1\" class=\"dataframe\">\n",
       "  <thead>\n",
       "    <tr style=\"text-align: right;\">\n",
       "      <th></th>\n",
       "      <th>week</th>\n",
       "      <th>indicator</th>\n",
       "      <th>inc</th>\n",
       "      <th>inc_low</th>\n",
       "      <th>inc_up</th>\n",
       "      <th>inc100</th>\n",
       "      <th>inc100_low</th>\n",
       "      <th>inc100_up</th>\n",
       "      <th>geo_insee</th>\n",
       "      <th>geo_name</th>\n",
       "    </tr>\n",
       "  </thead>\n",
       "  <tbody>\n",
       "    <tr>\n",
       "      <th>0</th>\n",
       "      <td>202242</td>\n",
       "      <td>7</td>\n",
       "      <td>3450</td>\n",
       "      <td>1419</td>\n",
       "      <td>5481</td>\n",
       "      <td>5</td>\n",
       "      <td>2</td>\n",
       "      <td>8</td>\n",
       "      <td>FR</td>\n",
       "      <td>France</td>\n",
       "    </tr>\n",
       "    <tr>\n",
       "      <th>1</th>\n",
       "      <td>202241</td>\n",
       "      <td>7</td>\n",
       "      <td>4125</td>\n",
       "      <td>2177</td>\n",
       "      <td>6073</td>\n",
       "      <td>6</td>\n",
       "      <td>3</td>\n",
       "      <td>9</td>\n",
       "      <td>FR</td>\n",
       "      <td>France</td>\n",
       "    </tr>\n",
       "    <tr>\n",
       "      <th>2</th>\n",
       "      <td>202240</td>\n",
       "      <td>7</td>\n",
       "      <td>4883</td>\n",
       "      <td>1472</td>\n",
       "      <td>8294</td>\n",
       "      <td>7</td>\n",
       "      <td>2</td>\n",
       "      <td>12</td>\n",
       "      <td>FR</td>\n",
       "      <td>France</td>\n",
       "    </tr>\n",
       "    <tr>\n",
       "      <th>3</th>\n",
       "      <td>202239</td>\n",
       "      <td>7</td>\n",
       "      <td>2041</td>\n",
       "      <td>331</td>\n",
       "      <td>3751</td>\n",
       "      <td>3</td>\n",
       "      <td>0</td>\n",
       "      <td>6</td>\n",
       "      <td>FR</td>\n",
       "      <td>France</td>\n",
       "    </tr>\n",
       "    <tr>\n",
       "      <th>4</th>\n",
       "      <td>202238</td>\n",
       "      <td>7</td>\n",
       "      <td>1771</td>\n",
       "      <td>419</td>\n",
       "      <td>3123</td>\n",
       "      <td>3</td>\n",
       "      <td>1</td>\n",
       "      <td>5</td>\n",
       "      <td>FR</td>\n",
       "      <td>France</td>\n",
       "    </tr>\n",
       "    <tr>\n",
       "      <th>...</th>\n",
       "      <td>...</td>\n",
       "      <td>...</td>\n",
       "      <td>...</td>\n",
       "      <td>...</td>\n",
       "      <td>...</td>\n",
       "      <td>...</td>\n",
       "      <td>...</td>\n",
       "      <td>...</td>\n",
       "      <td>...</td>\n",
       "      <td>...</td>\n",
       "    </tr>\n",
       "    <tr>\n",
       "      <th>1659</th>\n",
       "      <td>199101</td>\n",
       "      <td>7</td>\n",
       "      <td>15565</td>\n",
       "      <td>10271</td>\n",
       "      <td>20859</td>\n",
       "      <td>27</td>\n",
       "      <td>18</td>\n",
       "      <td>36</td>\n",
       "      <td>FR</td>\n",
       "      <td>France</td>\n",
       "    </tr>\n",
       "    <tr>\n",
       "      <th>1660</th>\n",
       "      <td>199052</td>\n",
       "      <td>7</td>\n",
       "      <td>19375</td>\n",
       "      <td>13295</td>\n",
       "      <td>25455</td>\n",
       "      <td>34</td>\n",
       "      <td>23</td>\n",
       "      <td>45</td>\n",
       "      <td>FR</td>\n",
       "      <td>France</td>\n",
       "    </tr>\n",
       "    <tr>\n",
       "      <th>1661</th>\n",
       "      <td>199051</td>\n",
       "      <td>7</td>\n",
       "      <td>19080</td>\n",
       "      <td>13807</td>\n",
       "      <td>24353</td>\n",
       "      <td>34</td>\n",
       "      <td>25</td>\n",
       "      <td>43</td>\n",
       "      <td>FR</td>\n",
       "      <td>France</td>\n",
       "    </tr>\n",
       "    <tr>\n",
       "      <th>1662</th>\n",
       "      <td>199050</td>\n",
       "      <td>7</td>\n",
       "      <td>11079</td>\n",
       "      <td>6660</td>\n",
       "      <td>15498</td>\n",
       "      <td>20</td>\n",
       "      <td>12</td>\n",
       "      <td>28</td>\n",
       "      <td>FR</td>\n",
       "      <td>France</td>\n",
       "    </tr>\n",
       "    <tr>\n",
       "      <th>1663</th>\n",
       "      <td>199049</td>\n",
       "      <td>7</td>\n",
       "      <td>1143</td>\n",
       "      <td>0</td>\n",
       "      <td>2610</td>\n",
       "      <td>2</td>\n",
       "      <td>0</td>\n",
       "      <td>5</td>\n",
       "      <td>FR</td>\n",
       "      <td>France</td>\n",
       "    </tr>\n",
       "  </tbody>\n",
       "</table>\n",
       "<p>1664 rows × 10 columns</p>\n",
       "</div>"
      ],
      "text/plain": [
       "        week  indicator    inc  inc_low  inc_up  inc100  inc100_low  \\\n",
       "0     202242          7   3450     1419    5481       5           2   \n",
       "1     202241          7   4125     2177    6073       6           3   \n",
       "2     202240          7   4883     1472    8294       7           2   \n",
       "3     202239          7   2041      331    3751       3           0   \n",
       "4     202238          7   1771      419    3123       3           1   \n",
       "...      ...        ...    ...      ...     ...     ...         ...   \n",
       "1659  199101          7  15565    10271   20859      27          18   \n",
       "1660  199052          7  19375    13295   25455      34          23   \n",
       "1661  199051          7  19080    13807   24353      34          25   \n",
       "1662  199050          7  11079     6660   15498      20          12   \n",
       "1663  199049          7   1143        0    2610       2           0   \n",
       "\n",
       "      inc100_up geo_insee geo_name  \n",
       "0             8        FR   France  \n",
       "1             9        FR   France  \n",
       "2            12        FR   France  \n",
       "3             6        FR   France  \n",
       "4             5        FR   France  \n",
       "...         ...       ...      ...  \n",
       "1659         36        FR   France  \n",
       "1660         45        FR   France  \n",
       "1661         43        FR   France  \n",
       "1662         28        FR   France  \n",
       "1663          5        FR   France  \n",
       "\n",
       "[1664 rows x 10 columns]"
      ]
     },
     "execution_count": 6,
     "metadata": {},
     "output_type": "execute_result"
    }
   ],
   "source": [
    "# data = raw_data.dropna().copy()\n",
    "data = raw_data.copy()\n",
    "data"
   ]
  },
  {
   "cell_type": "markdown",
   "metadata": {},
   "source": [
    "Our dataset uses an uncommon encoding; the week number is attached\n",
    "to the year number, leaving the impression of a six-digit integer.\n",
    "That is how Pandas interprets it.\n",
    "\n",
    "A second problem is that Pandas does not know about week numbers.\n",
    "It needs to be given the dates of the beginning and end of the week.\n",
    "We use the library `isoweek` for that.\n",
    "\n",
    "Since the conversion is a bit lengthy, we write a small Python \n",
    "function for doing it. Then we apply it to all points in our dataset. \n",
    "The results go into a new column 'period'."
   ]
  },
  {
   "cell_type": "code",
   "execution_count": 7,
   "metadata": {},
   "outputs": [],
   "source": [
    "def convert_week(year_and_week_int):\n",
    "    year_and_week_str = str(year_and_week_int)\n",
    "    year = int(year_and_week_str[:4])\n",
    "    week = int(year_and_week_str[4:])\n",
    "    w = isoweek.Week(year, week)\n",
    "    return pd.Period(w.day(0), 'W')\n",
    "\n",
    "data['period'] = [convert_week(yw) for yw in data['week']]"
   ]
  },
  {
   "cell_type": "markdown",
   "metadata": {},
   "source": [
    "There are two more small changes to make.\n",
    "\n",
    "First, we define the observation periods as the new index of\n",
    "our dataset. That turns it into a time series, which will be\n",
    "convenient later on.\n",
    "\n",
    "Second, we sort the points chronologically."
   ]
  },
  {
   "cell_type": "code",
   "execution_count": 8,
   "metadata": {},
   "outputs": [],
   "source": [
    "sorted_data = data.set_index('period').sort_index()"
   ]
  },
  {
   "cell_type": "markdown",
   "metadata": {},
   "source": [
    "We check the consistency of the data. Between the end of a period and\n",
    "the beginning of the next one, the difference should be zero, or very small.\n",
    "We tolerate an error of one second.\n",
    "\n",
    "This is OK ~except for one pair of consecutive periods between which\n",
    "a whole week is missing.~\n",
    "\n",
    "~We recognize the dates: it's the week without observations that we\n",
    "have deleted earlier!~"
   ]
  },
  {
   "cell_type": "code",
   "execution_count": 33,
   "metadata": {},
   "outputs": [],
   "source": [
    "periods = sorted_data.index\n",
    "for p1, p2 in zip(periods[:-1], periods[1:]):\n",
    "    delta = p2.to_timestamp() - p1.end_time\n",
    "    if delta > pd.Timedelta('1s'):\n",
    "        print(p1, p2)"
   ]
  },
  {
   "cell_type": "markdown",
   "metadata": {},
   "source": [
    "A first look at the data!"
   ]
  },
  {
   "cell_type": "code",
   "execution_count": 34,
   "metadata": {},
   "outputs": [
    {
     "data": {
      "text/plain": [
       "<AxesSubplot: xlabel='period'>"
      ]
     },
     "execution_count": 34,
     "metadata": {},
     "output_type": "execute_result"
    },
    {
     "data": {
      "image/png": "[encoded data removed]",
      "text/plain": [
       "<Figure size 432x288 with 1 Axes>"
      ]
     },
     "metadata": {
      "needs_background": "light"
     },
     "output_type": "display_data"
    }
   ],
   "source": [
    "sorted_data['inc'].plot()"
   ]
  },
  {
   "cell_type": "markdown",
   "metadata": {},
   "source": [
    "A zoom on the last few years shows more clearly that the peaks are situated in winter."
   ]
  },
  {
   "cell_type": "code",
   "execution_count": 35,
   "metadata": {},
   "outputs": [
    {
     "data": {
      "text/plain": [
       "<AxesSubplot: xlabel='period'>"
      ]
     },
     "execution_count": 35,
     "metadata": {},
     "output_type": "execute_result"
    },
    {
     "data": {
      "image/png": "[encoded data removed]",
      "text/plain": [
       "<Figure size 432x288 with 1 Axes>"
      ]
     },
     "metadata": {
      "needs_background": "light"
     },
     "output_type": "display_data"
    }
   ],
   "source": [
    "sorted_data['inc'][-200:].plot()"
   ]
  },
  {
   "cell_type": "markdown",
   "metadata": {},
   "source": [
    "## Study of the annual incidence"
   ]
  },
  {
   "cell_type": "markdown",
   "metadata": {},
   "source": [
    "Since the peaks of the epidemic happen in winter, near the transition\n",
    "between calendar years, we define the reference period for the annual\n",
    "incidence from August 1st of year $N$ to August 1st of year $N+1$. We\n",
    "label this period as year $N+1$ because the peak is always located in\n",
    "year $N+1$. The very low incidence in summer ensures that the arbitrariness\n",
    "of the choice of reference period has no impact on our conclusions.\n",
    "\n",
    "Our task is a bit complicated by the fact that a year does not have an\n",
    "integer number of weeks. Therefore we modify our reference period a bit:\n",
    "instead of August 1st, we use the first day of the week containing August 1st.\n",
    "\n",
    "A final detail: the dataset starts in December 1990, the first peak is thus\n",
    "incomplete, We start the analysis with the first full peak."
   ]
  },
  {
   "cell_type": "code",
   "execution_count": 28,
   "metadata": {},
   "outputs": [],
   "source": [
    "first_august_week = [pd.Period(pd.Timestamp(y, 8, 1), 'W')\n",
    "                     for y in range(1991,\n",
    "                                    sorted_data.index[-1].year)]"
   ]
  },
  {
   "cell_type": "markdown",
   "metadata": {},
   "source": [
    "Starting from this list of weeks that contain August 1st, we obtain intervals of approximately one year as the periods between two adjacent weeks in this list. We compute the sums of weekly incidences for all these periods.\n",
    "\n",
    "We also check that our periods contain between 51 and 52 weeks, as a safeguard against potential mistakes in our code."
   ]
  },
  {
   "cell_type": "code",
   "execution_count": 29,
   "metadata": {},
   "outputs": [],
   "source": [
    "year = []\n",
    "yearly_incidence = []\n",
    "for week1, week2 in zip(first_august_week[:-1],\n",
    "                        first_august_week[1:]):\n",
    "    one_year = sorted_data['inc'][week1:week2-1]\n",
    "    assert abs(len(one_year)-52) < 2\n",
    "    yearly_incidence.append(one_year.sum())\n",
    "    year.append(week2.year)\n",
    "yearly_incidence = pd.Series(data=yearly_incidence, index=year)"
   ]
  },
  {
   "cell_type": "markdown",
   "metadata": {},
   "source": [
    "And here are the annual incidences."
   ]
  },
  {
   "cell_type": "code",
   "execution_count": 30,
   "metadata": {},
   "outputs": [
    {
     "data": {
      "text/plain": [
       "<AxesSubplot: >"
      ]
     },
     "execution_count": 30,
     "metadata": {},
     "output_type": "execute_result"
    },
    {
     "data": {
      "image/png": "[encoded data removed]",
      "text/plain": [
       "<Figure size 432x288 with 1 Axes>"
      ]
     },
     "metadata": {
      "needs_background": "light"
     },
     "output_type": "display_data"
    }
   ],
   "source": [
    "yearly_incidence.plot(style='*')"
   ]
  },
  {
   "cell_type": "markdown",
   "metadata": {},
   "source": [
    "A sorted list makes it easier to find the highest values (at the end)."
   ]
  },
  {
   "cell_type": "code",
   "execution_count": 31,
   "metadata": {},
   "outputs": [
    {
     "data": {
      "text/plain": [
       "2020    229363\n",
       "2021    363278\n",
       "2002    502271\n",
       "2018    543281\n",
       "1996    553859\n",
       "2017    557449\n",
       "2019    584926\n",
       "2000    605096\n",
       "2015    613286\n",
       "2012    620315\n",
       "2011    645042\n",
       "1995    648598\n",
       "2001    650660\n",
       "1993    653058\n",
       "2005    654308\n",
       "2006    657482\n",
       "1998    660316\n",
       "2014    673458\n",
       "1997    679308\n",
       "1994    682920\n",
       "2007    701566\n",
       "2013    708874\n",
       "2004    736266\n",
       "2008    745701\n",
       "2003    770211\n",
       "2016    780645\n",
       "1999    784963\n",
       "2009    822819\n",
       "2010    848236\n",
       "dtype: int64"
      ]
     },
     "execution_count": 31,
     "metadata": {},
     "output_type": "execute_result"
    }
   ],
   "source": [
    "yearly_incidence.sort_values()"
   ]
  },
  {
   "cell_type": "markdown",
   "metadata": {},
   "source": [
    "The final histogram shows that in more than 20 different years the epidemic affected more than 600k people and in 2 years more than 800k."
   ]
  },
  {
   "cell_type": "code",
   "execution_count": 32,
   "metadata": {},
   "outputs": [
    {
     "data": {
      "text/plain": [
       "<AxesSubplot: >"
      ]
     },
     "execution_count": 32,
     "metadata": {},
     "output_type": "execute_result"
    },
    {
     "data": {
      "image/png": "[encoded data removed]",
      "text/plain": [
       "<Figure size 432x288 with 1 Axes>"
      ]
     },
     "metadata": {
      "needs_background": "light"
     },
     "output_type": "display_data"
    }
   ],
   "source": [
    "yearly_incidence.hist(xrot=20)"
   ]
  },
  {
   "cell_type": "code",
   "execution_count": null,
   "metadata": {},
   "outputs": [],
   "source": []
  }
 ],
 "metadata": {
  "kernelspec": {
   "display_name": "Python 3",
   "language": "python",
   "name": "python3"
  },
  "language_info": {
   "codemirror_mode": {
    "name": "ipython",
    "version": 3
   },
   "file_extension": ".py",
   "mimetype": "text/x-python",
   "name": "python",
   "nbconvert_exporter": "python",
   "pygments_lexer": "ipython3",
   "version": "3.8.10"
  }
 },
 "nbformat": 4,
 "nbformat_minor": 1
}
