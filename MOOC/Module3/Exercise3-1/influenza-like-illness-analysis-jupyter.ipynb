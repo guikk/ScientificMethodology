{
 "cells": [
  {
   "cell_type": "markdown",
   "metadata": {},
   "source": [
    "# Incidence of influenza-like illness in France"
   ]
  },
  {
   "cell_type": "code",
   "execution_count": 1,
   "metadata": {},
   "outputs": [],
   "source": [
    "%matplotlib inline\n",
    "import matplotlib.pyplot as plt\n",
    "import pandas as pd\n",
    "import isoweek\n",
    "import os.path\n",
    "from os import path"
   ]
  },
  {
   "cell_type": "markdown",
   "metadata": {},
   "source": [
    "The data on the incidence of influenza-like illness are available from the Web site of the [Réseau Sentinelles](http://www.sentiweb.fr/). We download them as a file in CSV format, in which each line corresponds to a week in the observation period. Only the complete dataset, starting in 1984 and ending with a recent week, is available for download."
   ]
  },
  {
   "cell_type": "code",
   "execution_count": 16,
   "metadata": {},
   "outputs": [],
   "source": [
    "# Old Version\n",
    "# data_url = \"http://www.sentiweb.fr/datasets/incidence-PAY-3.csv\"\n",
    "\n",
    "# New Version\n",
    "if not path.exists(\"data.csv\"):\n",
    "    !wget http://www.sentiweb.fr/datasets/incidence-PAY-3.csv -O data.csv"
   ]
  },
  {
   "cell_type": "markdown",
   "metadata": {},
   "source": [
    "This is the documentation of the data from [the download site](https://ns.sentiweb.fr/incidence/csv-schema-v1.json):\n",
    "\n",
    "| Column name  | Description                                                                                                               |\n",
    "|--------------|---------------------------------------------------------------------------------------------------------------------------|\n",
    "| `week`       | ISO8601 Yearweek number as numeric (year times 100 + week nubmer)                                                               |\n",
    "| `indicator`  | Unique identifier of the indicator, see metadata document https://www.sentiweb.fr/meta.json                               |\n",
    "| `inc`        | Estimated incidence value for the time step, in the geographic level                                                      |\n",
    "| `inc_low`    | Lower bound of the estimated incidence 95% Confidence Interval                                                            |\n",
    "| `inc_up`     | Upper bound of the estimated incidence 95% Confidence Interval                                                            |\n",
    "| `inc100`     | Estimated rate incidence per 100,000 inhabitants                                                                          |\n",
    "| `inc100_low` | Lower bound of the estimated incidence 95% Confidence Interval                                                            |\n",
    "| `inc100_up`  | Upper bound of the estimated rate incidence 95% Confidence Interval                                                       |\n",
    "| `geo_insee`  | Identifier of the geographic area, from INSEE https://www.insee.fr                                                        |\n",
    "| `geo_name`   | Geographic label of the area, corresponding to INSEE code. This label is not an id and is only provided for human reading |\n",
    "\n",
    "The first line of the CSV file is a comment, which we ignore with `skip=1`."
   ]
  },
  {
   "cell_type": "code",
   "execution_count": 3,
   "metadata": {},
   "outputs": [
    {
     "data": {
      "text/html": [
       "<div>\n",
       "<style scoped>\n",
       "    .dataframe tbody tr th:only-of-type {\n",
       "        vertical-align: middle;\n",
       "    }\n",
       "\n",
       "    .dataframe tbody tr th {\n",
       "        vertical-align: top;\n",
       "    }\n",
       "\n",
       "    .dataframe thead th {\n",
       "        text-align: right;\n",
       "    }\n",
       "</style>\n",
       "<table border=\"1\" class=\"dataframe\">\n",
       "  <thead>\n",
       "    <tr style=\"text-align: right;\">\n",
       "      <th></th>\n",
       "      <th>week</th>\n",
       "      <th>indicator</th>\n",
       "      <th>inc</th>\n",
       "      <th>inc_low</th>\n",
       "      <th>inc_up</th>\n",
       "      <th>inc100</th>\n",
       "      <th>inc100_low</th>\n",
       "      <th>inc100_up</th>\n",
       "      <th>geo_insee</th>\n",
       "      <th>geo_name</th>\n",
       "    </tr>\n",
       "  </thead>\n",
       "  <tbody>\n",
       "    <tr>\n",
       "      <th>0</th>\n",
       "      <td>202242</td>\n",
       "      <td>3</td>\n",
       "      <td>51989</td>\n",
       "      <td>43580.0</td>\n",
       "      <td>60398.0</td>\n",
       "      <td>78</td>\n",
       "      <td>65.0</td>\n",
       "      <td>91.0</td>\n",
       "      <td>FR</td>\n",
       "      <td>France</td>\n",
       "    </tr>\n",
       "    <tr>\n",
       "      <th>1</th>\n",
       "      <td>202241</td>\n",
       "      <td>3</td>\n",
       "      <td>49029</td>\n",
       "      <td>42759.0</td>\n",
       "      <td>55299.0</td>\n",
       "      <td>74</td>\n",
       "      <td>65.0</td>\n",
       "      <td>83.0</td>\n",
       "      <td>FR</td>\n",
       "      <td>France</td>\n",
       "    </tr>\n",
       "    <tr>\n",
       "      <th>2</th>\n",
       "      <td>202240</td>\n",
       "      <td>3</td>\n",
       "      <td>41927</td>\n",
       "      <td>36115.0</td>\n",
       "      <td>47739.0</td>\n",
       "      <td>63</td>\n",
       "      <td>54.0</td>\n",
       "      <td>72.0</td>\n",
       "      <td>FR</td>\n",
       "      <td>France</td>\n",
       "    </tr>\n",
       "    <tr>\n",
       "      <th>3</th>\n",
       "      <td>202239</td>\n",
       "      <td>3</td>\n",
       "      <td>39902</td>\n",
       "      <td>34168.0</td>\n",
       "      <td>45636.0</td>\n",
       "      <td>60</td>\n",
       "      <td>51.0</td>\n",
       "      <td>69.0</td>\n",
       "      <td>FR</td>\n",
       "      <td>France</td>\n",
       "    </tr>\n",
       "    <tr>\n",
       "      <th>4</th>\n",
       "      <td>202238</td>\n",
       "      <td>3</td>\n",
       "      <td>28781</td>\n",
       "      <td>23733.0</td>\n",
       "      <td>33829.0</td>\n",
       "      <td>43</td>\n",
       "      <td>35.0</td>\n",
       "      <td>51.0</td>\n",
       "      <td>FR</td>\n",
       "      <td>France</td>\n",
       "    </tr>\n",
       "    <tr>\n",
       "      <th>...</th>\n",
       "      <td>...</td>\n",
       "      <td>...</td>\n",
       "      <td>...</td>\n",
       "      <td>...</td>\n",
       "      <td>...</td>\n",
       "      <td>...</td>\n",
       "      <td>...</td>\n",
       "      <td>...</td>\n",
       "      <td>...</td>\n",
       "      <td>...</td>\n",
       "    </tr>\n",
       "    <tr>\n",
       "      <th>1977</th>\n",
       "      <td>198448</td>\n",
       "      <td>3</td>\n",
       "      <td>78620</td>\n",
       "      <td>60634.0</td>\n",
       "      <td>96606.0</td>\n",
       "      <td>143</td>\n",
       "      <td>110.0</td>\n",
       "      <td>176.0</td>\n",
       "      <td>FR</td>\n",
       "      <td>France</td>\n",
       "    </tr>\n",
       "    <tr>\n",
       "      <th>1978</th>\n",
       "      <td>198447</td>\n",
       "      <td>3</td>\n",
       "      <td>72029</td>\n",
       "      <td>54274.0</td>\n",
       "      <td>89784.0</td>\n",
       "      <td>131</td>\n",
       "      <td>99.0</td>\n",
       "      <td>163.0</td>\n",
       "      <td>FR</td>\n",
       "      <td>France</td>\n",
       "    </tr>\n",
       "    <tr>\n",
       "      <th>1979</th>\n",
       "      <td>198446</td>\n",
       "      <td>3</td>\n",
       "      <td>87330</td>\n",
       "      <td>67686.0</td>\n",
       "      <td>106974.0</td>\n",
       "      <td>159</td>\n",
       "      <td>123.0</td>\n",
       "      <td>195.0</td>\n",
       "      <td>FR</td>\n",
       "      <td>France</td>\n",
       "    </tr>\n",
       "    <tr>\n",
       "      <th>1980</th>\n",
       "      <td>198445</td>\n",
       "      <td>3</td>\n",
       "      <td>135223</td>\n",
       "      <td>101414.0</td>\n",
       "      <td>169032.0</td>\n",
       "      <td>246</td>\n",
       "      <td>184.0</td>\n",
       "      <td>308.0</td>\n",
       "      <td>FR</td>\n",
       "      <td>France</td>\n",
       "    </tr>\n",
       "    <tr>\n",
       "      <th>1981</th>\n",
       "      <td>198444</td>\n",
       "      <td>3</td>\n",
       "      <td>68422</td>\n",
       "      <td>20056.0</td>\n",
       "      <td>116788.0</td>\n",
       "      <td>125</td>\n",
       "      <td>37.0</td>\n",
       "      <td>213.0</td>\n",
       "      <td>FR</td>\n",
       "      <td>France</td>\n",
       "    </tr>\n",
       "  </tbody>\n",
       "</table>\n",
       "<p>1982 rows × 10 columns</p>\n",
       "</div>"
      ],
      "text/plain": [
       "        week  indicator     inc   inc_low    inc_up  inc100  inc100_low  \\\n",
       "0     202242          3   51989   43580.0   60398.0      78        65.0   \n",
       "1     202241          3   49029   42759.0   55299.0      74        65.0   \n",
       "2     202240          3   41927   36115.0   47739.0      63        54.0   \n",
       "3     202239          3   39902   34168.0   45636.0      60        51.0   \n",
       "4     202238          3   28781   23733.0   33829.0      43        35.0   \n",
       "...      ...        ...     ...       ...       ...     ...         ...   \n",
       "1977  198448          3   78620   60634.0   96606.0     143       110.0   \n",
       "1978  198447          3   72029   54274.0   89784.0     131        99.0   \n",
       "1979  198446          3   87330   67686.0  106974.0     159       123.0   \n",
       "1980  198445          3  135223  101414.0  169032.0     246       184.0   \n",
       "1981  198444          3   68422   20056.0  116788.0     125        37.0   \n",
       "\n",
       "      inc100_up geo_insee geo_name  \n",
       "0          91.0        FR   France  \n",
       "1          83.0        FR   France  \n",
       "2          72.0        FR   France  \n",
       "3          69.0        FR   France  \n",
       "4          51.0        FR   France  \n",
       "...         ...       ...      ...  \n",
       "1977      176.0        FR   France  \n",
       "1978      163.0        FR   France  \n",
       "1979      195.0        FR   France  \n",
       "1980      308.0        FR   France  \n",
       "1981      213.0        FR   France  \n",
       "\n",
       "[1982 rows x 10 columns]"
      ]
     },
     "execution_count": 3,
     "metadata": {},
     "output_type": "execute_result"
    }
   ],
   "source": [
    "# Old Version\n",
    "# raw_data = pd.read_csv(data_url, encoding = 'iso-8859-1', skiprows=1)\n",
    "\n",
    "# New Version\n",
    "raw_data = pd.read_csv(\"data.csv\", encoding = 'iso-8859-1', skiprows=1)\n",
    "raw_data"
   ]
  },
  {
   "cell_type": "markdown",
   "metadata": {},
   "source": [
    "Are there missing data points? Yes, week 19 of year 1989 does not have any observed values."
   ]
  },
  {
   "cell_type": "code",
   "execution_count": 4,
   "metadata": {},
   "outputs": [
    {
     "data": {
      "text/html": [
       "<div>\n",
       "<style scoped>\n",
       "    .dataframe tbody tr th:only-of-type {\n",
       "        vertical-align: middle;\n",
       "    }\n",
       "\n",
       "    .dataframe tbody tr th {\n",
       "        vertical-align: top;\n",
       "    }\n",
       "\n",
       "    .dataframe thead th {\n",
       "        text-align: right;\n",
       "    }\n",
       "</style>\n",
       "<table border=\"1\" class=\"dataframe\">\n",
       "  <thead>\n",
       "    <tr style=\"text-align: right;\">\n",
       "      <th></th>\n",
       "      <th>week</th>\n",
       "      <th>indicator</th>\n",
       "      <th>inc</th>\n",
       "      <th>inc_low</th>\n",
       "      <th>inc_up</th>\n",
       "      <th>inc100</th>\n",
       "      <th>inc100_low</th>\n",
       "      <th>inc100_up</th>\n",
       "      <th>geo_insee</th>\n",
       "      <th>geo_name</th>\n",
       "    </tr>\n",
       "  </thead>\n",
       "  <tbody>\n",
       "    <tr>\n",
       "      <th>1745</th>\n",
       "      <td>198919</td>\n",
       "      <td>3</td>\n",
       "      <td>0</td>\n",
       "      <td>NaN</td>\n",
       "      <td>NaN</td>\n",
       "      <td>0</td>\n",
       "      <td>NaN</td>\n",
       "      <td>NaN</td>\n",
       "      <td>FR</td>\n",
       "      <td>France</td>\n",
       "    </tr>\n",
       "  </tbody>\n",
       "</table>\n",
       "</div>"
      ],
      "text/plain": [
       "        week  indicator  inc  inc_low  inc_up  inc100  inc100_low  inc100_up  \\\n",
       "1745  198919          3    0      NaN     NaN       0         NaN        NaN   \n",
       "\n",
       "     geo_insee geo_name  \n",
       "1745        FR   France  "
      ]
     },
     "execution_count": 4,
     "metadata": {},
     "output_type": "execute_result"
    }
   ],
   "source": [
    "raw_data[raw_data.isnull().any(axis=1)]"
   ]
  },
  {
   "cell_type": "markdown",
   "metadata": {},
   "source": [
    "We delete this point, which does not have big consequence for our rather simple analysis."
   ]
  },
  {
   "cell_type": "code",
   "execution_count": 5,
   "metadata": {},
   "outputs": [
    {
     "data": {
      "text/html": [
       "<div>\n",
       "<style scoped>\n",
       "    .dataframe tbody tr th:only-of-type {\n",
       "        vertical-align: middle;\n",
       "    }\n",
       "\n",
       "    .dataframe tbody tr th {\n",
       "        vertical-align: top;\n",
       "    }\n",
       "\n",
       "    .dataframe thead th {\n",
       "        text-align: right;\n",
       "    }\n",
       "</style>\n",
       "<table border=\"1\" class=\"dataframe\">\n",
       "  <thead>\n",
       "    <tr style=\"text-align: right;\">\n",
       "      <th></th>\n",
       "      <th>week</th>\n",
       "      <th>indicator</th>\n",
       "      <th>inc</th>\n",
       "      <th>inc_low</th>\n",
       "      <th>inc_up</th>\n",
       "      <th>inc100</th>\n",
       "      <th>inc100_low</th>\n",
       "      <th>inc100_up</th>\n",
       "      <th>geo_insee</th>\n",
       "      <th>geo_name</th>\n",
       "    </tr>\n",
       "  </thead>\n",
       "  <tbody>\n",
       "    <tr>\n",
       "      <th>0</th>\n",
       "      <td>202242</td>\n",
       "      <td>3</td>\n",
       "      <td>51989</td>\n",
       "      <td>43580.0</td>\n",
       "      <td>60398.0</td>\n",
       "      <td>78</td>\n",
       "      <td>65.0</td>\n",
       "      <td>91.0</td>\n",
       "      <td>FR</td>\n",
       "      <td>France</td>\n",
       "    </tr>\n",
       "    <tr>\n",
       "      <th>1</th>\n",
       "      <td>202241</td>\n",
       "      <td>3</td>\n",
       "      <td>49029</td>\n",
       "      <td>42759.0</td>\n",
       "      <td>55299.0</td>\n",
       "      <td>74</td>\n",
       "      <td>65.0</td>\n",
       "      <td>83.0</td>\n",
       "      <td>FR</td>\n",
       "      <td>France</td>\n",
       "    </tr>\n",
       "    <tr>\n",
       "      <th>2</th>\n",
       "      <td>202240</td>\n",
       "      <td>3</td>\n",
       "      <td>41927</td>\n",
       "      <td>36115.0</td>\n",
       "      <td>47739.0</td>\n",
       "      <td>63</td>\n",
       "      <td>54.0</td>\n",
       "      <td>72.0</td>\n",
       "      <td>FR</td>\n",
       "      <td>France</td>\n",
       "    </tr>\n",
       "    <tr>\n",
       "      <th>3</th>\n",
       "      <td>202239</td>\n",
       "      <td>3</td>\n",
       "      <td>39902</td>\n",
       "      <td>34168.0</td>\n",
       "      <td>45636.0</td>\n",
       "      <td>60</td>\n",
       "      <td>51.0</td>\n",
       "      <td>69.0</td>\n",
       "      <td>FR</td>\n",
       "      <td>France</td>\n",
       "    </tr>\n",
       "    <tr>\n",
       "      <th>4</th>\n",
       "      <td>202238</td>\n",
       "      <td>3</td>\n",
       "      <td>28781</td>\n",
       "      <td>23733.0</td>\n",
       "      <td>33829.0</td>\n",
       "      <td>43</td>\n",
       "      <td>35.0</td>\n",
       "      <td>51.0</td>\n",
       "      <td>FR</td>\n",
       "      <td>France</td>\n",
       "    </tr>\n",
       "    <tr>\n",
       "      <th>...</th>\n",
       "      <td>...</td>\n",
       "      <td>...</td>\n",
       "      <td>...</td>\n",
       "      <td>...</td>\n",
       "      <td>...</td>\n",
       "      <td>...</td>\n",
       "      <td>...</td>\n",
       "      <td>...</td>\n",
       "      <td>...</td>\n",
       "      <td>...</td>\n",
       "    </tr>\n",
       "    <tr>\n",
       "      <th>1977</th>\n",
       "      <td>198448</td>\n",
       "      <td>3</td>\n",
       "      <td>78620</td>\n",
       "      <td>60634.0</td>\n",
       "      <td>96606.0</td>\n",
       "      <td>143</td>\n",
       "      <td>110.0</td>\n",
       "      <td>176.0</td>\n",
       "      <td>FR</td>\n",
       "      <td>France</td>\n",
       "    </tr>\n",
       "    <tr>\n",
       "      <th>1978</th>\n",
       "      <td>198447</td>\n",
       "      <td>3</td>\n",
       "      <td>72029</td>\n",
       "      <td>54274.0</td>\n",
       "      <td>89784.0</td>\n",
       "      <td>131</td>\n",
       "      <td>99.0</td>\n",
       "      <td>163.0</td>\n",
       "      <td>FR</td>\n",
       "      <td>France</td>\n",
       "    </tr>\n",
       "    <tr>\n",
       "      <th>1979</th>\n",
       "      <td>198446</td>\n",
       "      <td>3</td>\n",
       "      <td>87330</td>\n",
       "      <td>67686.0</td>\n",
       "      <td>106974.0</td>\n",
       "      <td>159</td>\n",
       "      <td>123.0</td>\n",
       "      <td>195.0</td>\n",
       "      <td>FR</td>\n",
       "      <td>France</td>\n",
       "    </tr>\n",
       "    <tr>\n",
       "      <th>1980</th>\n",
       "      <td>198445</td>\n",
       "      <td>3</td>\n",
       "      <td>135223</td>\n",
       "      <td>101414.0</td>\n",
       "      <td>169032.0</td>\n",
       "      <td>246</td>\n",
       "      <td>184.0</td>\n",
       "      <td>308.0</td>\n",
       "      <td>FR</td>\n",
       "      <td>France</td>\n",
       "    </tr>\n",
       "    <tr>\n",
       "      <th>1981</th>\n",
       "      <td>198444</td>\n",
       "      <td>3</td>\n",
       "      <td>68422</td>\n",
       "      <td>20056.0</td>\n",
       "      <td>116788.0</td>\n",
       "      <td>125</td>\n",
       "      <td>37.0</td>\n",
       "      <td>213.0</td>\n",
       "      <td>FR</td>\n",
       "      <td>France</td>\n",
       "    </tr>\n",
       "  </tbody>\n",
       "</table>\n",
       "<p>1981 rows × 10 columns</p>\n",
       "</div>"
      ],
      "text/plain": [
       "        week  indicator     inc   inc_low    inc_up  inc100  inc100_low  \\\n",
       "0     202242          3   51989   43580.0   60398.0      78        65.0   \n",
       "1     202241          3   49029   42759.0   55299.0      74        65.0   \n",
       "2     202240          3   41927   36115.0   47739.0      63        54.0   \n",
       "3     202239          3   39902   34168.0   45636.0      60        51.0   \n",
       "4     202238          3   28781   23733.0   33829.0      43        35.0   \n",
       "...      ...        ...     ...       ...       ...     ...         ...   \n",
       "1977  198448          3   78620   60634.0   96606.0     143       110.0   \n",
       "1978  198447          3   72029   54274.0   89784.0     131        99.0   \n",
       "1979  198446          3   87330   67686.0  106974.0     159       123.0   \n",
       "1980  198445          3  135223  101414.0  169032.0     246       184.0   \n",
       "1981  198444          3   68422   20056.0  116788.0     125        37.0   \n",
       "\n",
       "      inc100_up geo_insee geo_name  \n",
       "0          91.0        FR   France  \n",
       "1          83.0        FR   France  \n",
       "2          72.0        FR   France  \n",
       "3          69.0        FR   France  \n",
       "4          51.0        FR   France  \n",
       "...         ...       ...      ...  \n",
       "1977      176.0        FR   France  \n",
       "1978      163.0        FR   France  \n",
       "1979      195.0        FR   France  \n",
       "1980      308.0        FR   France  \n",
       "1981      213.0        FR   France  \n",
       "\n",
       "[1981 rows x 10 columns]"
      ]
     },
     "execution_count": 5,
     "metadata": {},
     "output_type": "execute_result"
    }
   ],
   "source": [
    "data = raw_data.dropna().copy()\n",
    "data"
   ]
  },
  {
   "cell_type": "markdown",
   "metadata": {},
   "source": [
    "Our dataset uses an uncommon encoding; the week number is attached\n",
    "to the year number, leaving the impression of a six-digit integer.\n",
    "That is how Pandas interprets it.\n",
    "\n",
    "A second problem is that Pandas does not know about week numbers.\n",
    "It needs to be given the dates of the beginning and end of the week.\n",
    "We use the library `isoweek` for that.\n",
    "\n",
    "Since the conversion is a bit lengthy, we write a small Python \n",
    "function for doing it. Then we apply it to all points in our dataset. \n",
    "The results go into a new column 'period'."
   ]
  },
  {
   "cell_type": "code",
   "execution_count": 6,
   "metadata": {},
   "outputs": [],
   "source": [
    "def convert_week(year_and_week_int):\n",
    "    year_and_week_str = str(year_and_week_int)\n",
    "    year = int(year_and_week_str[:4])\n",
    "    week = int(year_and_week_str[4:])\n",
    "    w = isoweek.Week(year, week)\n",
    "    return pd.Period(w.day(0), 'W')\n",
    "\n",
    "data['period'] = [convert_week(yw) for yw in data['week']]"
   ]
  },
  {
   "cell_type": "markdown",
   "metadata": {},
   "source": [
    "There are two more small changes to make.\n",
    "\n",
    "First, we define the observation periods as the new index of\n",
    "our dataset. That turns it into a time series, which will be\n",
    "convenient later on.\n",
    "\n",
    "Second, we sort the points chronologically."
   ]
  },
  {
   "cell_type": "code",
   "execution_count": 7,
   "metadata": {},
   "outputs": [],
   "source": [
    "sorted_data = data.set_index('period').sort_index()"
   ]
  },
  {
   "cell_type": "markdown",
   "metadata": {},
   "source": [
    "We check the consistency of the data. Between the end of a period and\n",
    "the beginning of the next one, the difference should be zero, or very small.\n",
    "We tolerate an error of one second.\n",
    "\n",
    "This is OK except for one pair of consecutive periods between which\n",
    "a whole week is missing.\n",
    "\n",
    "We recognize the dates: it's the week without observations that we\n",
    "have deleted earlier!"
   ]
  },
  {
   "cell_type": "code",
   "execution_count": 8,
   "metadata": {},
   "outputs": [
    {
     "name": "stdout",
     "output_type": "stream",
     "text": [
      "1989-05-01/1989-05-07 1989-05-15/1989-05-21\n"
     ]
    }
   ],
   "source": [
    "periods = sorted_data.index\n",
    "for p1, p2 in zip(periods[:-1], periods[1:]):\n",
    "    delta = p2.to_timestamp() - p1.end_time\n",
    "    if delta > pd.Timedelta('1s'):\n",
    "        print(p1, p2)"
   ]
  },
  {
   "cell_type": "markdown",
   "metadata": {},
   "source": [
    "A first look at the data!"
   ]
  },
  {
   "cell_type": "code",
   "execution_count": 9,
   "metadata": {},
   "outputs": [
    {
     "data": {
      "text/plain": [
       "<AxesSubplot: xlabel='period'>"
      ]
     },
     "execution_count": 9,
     "metadata": {},
     "output_type": "execute_result"
    },
    {
     "data": {
      "image/png": "[encoded data removed]",
      "text/plain": [
       "<Figure size 432x288 with 1 Axes>"
      ]
     },
     "metadata": {
      "needs_background": "light"
     },
     "output_type": "display_data"
    }
   ],
   "source": [
    "sorted_data['inc'].plot()"
   ]
  },
  {
   "cell_type": "markdown",
   "metadata": {},
   "source": [
    "A zoom on the last few years shows more clearly that the peaks are situated in winter."
   ]
  },
  {
   "cell_type": "code",
   "execution_count": 10,
   "metadata": {},
   "outputs": [
    {
     "data": {
      "text/plain": [
       "<AxesSubplot: xlabel='period'>"
      ]
     },
     "execution_count": 10,
     "metadata": {},
     "output_type": "execute_result"
    },
    {
     "data": {
      "image/png": "[encoded data removed]",
      "text/plain": [
       "<Figure size 432x288 with 1 Axes>"
      ]
     },
     "metadata": {
      "needs_background": "light"
     },
     "output_type": "display_data"
    }
   ],
   "source": [
    "sorted_data['inc'][-200:].plot()"
   ]
  },
  {
   "cell_type": "markdown",
   "metadata": {},
   "source": [
    "## Study of the annual incidence"
   ]
  },
  {
   "cell_type": "markdown",
   "metadata": {},
   "source": [
    "Since the peaks of the epidemic happen in winter, near the transition\n",
    "between calendar years, we define the reference period for the annual\n",
    "incidence from August 1st of year $N$ to August 1st of year $N+1$. We\n",
    "label this period as year $N+1$ because the peak is always located in\n",
    "year $N+1$. The very low incidence in summer ensures that the arbitrariness\n",
    "of the choice of reference period has no impact on our conclusions.\n",
    "\n",
    "Our task is a bit complicated by the fact that a year does not have an\n",
    "integer number of weeks. Therefore we modify our reference period a bit:\n",
    "instead of August 1st, we use the first day of the week containing August 1st.\n",
    "\n",
    "A final detail: the dataset starts in October 1984, the first peak is thus\n",
    "incomplete, We start the analysis with the first full peak."
   ]
  },
  {
   "cell_type": "code",
   "execution_count": 11,
   "metadata": {},
   "outputs": [],
   "source": [
    "first_august_week = [pd.Period(pd.Timestamp(y, 8, 1), 'W')\n",
    "                     for y in range(1985,\n",
    "                                    sorted_data.index[-1].year)]"
   ]
  },
  {
   "cell_type": "markdown",
   "metadata": {},
   "source": [
    "Starting from this list of weeks that contain August 1st, we obtain intervals of approximately one year as the periods between two adjacent weeks in this list. We compute the sums of weekly incidences for all these periods.\n",
    "\n",
    "We also check that our periods contain between 51 and 52 weeks, as a safeguard against potential mistakes in our code."
   ]
  },
  {
   "cell_type": "code",
   "execution_count": 12,
   "metadata": {},
   "outputs": [],
   "source": [
    "year = []\n",
    "yearly_incidence = []\n",
    "for week1, week2 in zip(first_august_week[:-1],\n",
    "                        first_august_week[1:]):\n",
    "    one_year = sorted_data['inc'][week1:week2-1]\n",
    "    assert abs(len(one_year)-52) < 2\n",
    "    yearly_incidence.append(one_year.sum())\n",
    "    year.append(week2.year)\n",
    "yearly_incidence = pd.Series(data=yearly_incidence, index=year)"
   ]
  },
  {
   "cell_type": "markdown",
   "metadata": {},
   "source": [
    "And here are the annual incidences."
   ]
  },
  {
   "cell_type": "code",
   "execution_count": 13,
   "metadata": {},
   "outputs": [
    {
     "data": {
      "text/plain": [
       "<AxesSubplot: >"
      ]
     },
     "execution_count": 13,
     "metadata": {},
     "output_type": "execute_result"
    },
    {
     "data": {
      "image/png": "[encoded data removed]",
      "text/plain": [
       "<Figure size 432x288 with 1 Axes>"
      ]
     },
     "metadata": {
      "needs_background": "light"
     },
     "output_type": "display_data"
    }
   ],
   "source": [
    "yearly_incidence.plot(style='*')"
   ]
  },
  {
   "cell_type": "markdown",
   "metadata": {},
   "source": [
    "A sorted list makes it easier to find the highest values (at the end)."
   ]
  },
  {
   "cell_type": "code",
   "execution_count": 14,
   "metadata": {},
   "outputs": [
    {
     "data": {
      "text/plain": [
       "2021     743449\n",
       "2014    1600941\n",
       "1991    1659249\n",
       "1995    1840410\n",
       "2020    2010315\n",
       "2012    2175217\n",
       "2003    2234584\n",
       "2019    2254386\n",
       "2006    2307352\n",
       "2017    2321583\n",
       "2001    2529279\n",
       "1992    2574578\n",
       "1993    2703886\n",
       "2018    2705325\n",
       "1988    2765617\n",
       "2007    2780164\n",
       "1987    2855570\n",
       "2016    2856393\n",
       "2011    2857040\n",
       "2008    2973918\n",
       "1998    3034904\n",
       "2002    3125418\n",
       "2009    3444020\n",
       "1994    3514763\n",
       "1996    3539413\n",
       "2004    3567744\n",
       "1997    3620066\n",
       "2015    3654892\n",
       "2000    3826372\n",
       "2005    3835025\n",
       "1999    3908112\n",
       "2010    4111392\n",
       "2013    4182691\n",
       "1986    5115251\n",
       "1990    5235827\n",
       "1989    5466192\n",
       "dtype: int64"
      ]
     },
     "execution_count": 14,
     "metadata": {},
     "output_type": "execute_result"
    }
   ],
   "source": [
    "yearly_incidence.sort_values()"
   ]
  },
  {
   "cell_type": "markdown",
   "metadata": {},
   "source": [
    "Finally, a histogram clearly shows the few very strong epidemics, which affect about 10% of the French population,\n",
    "but are rare: there were three of them in the course of 35 years. The typical epidemic affects only half as many people."
   ]
  },
  {
   "cell_type": "code",
   "execution_count": 15,
   "metadata": {},
   "outputs": [
    {
     "data": {
      "text/plain": [
       "<AxesSubplot: >"
      ]
     },
     "execution_count": 15,
     "metadata": {},
     "output_type": "execute_result"
    },
    {
     "data": {
      "image/png": "[encoded data removed]",
      "text/plain": [
       "<Figure size 432x288 with 1 Axes>"
      ]
     },
     "metadata": {
      "needs_background": "light"
     },
     "output_type": "display_data"
    }
   ],
   "source": [
    "yearly_incidence.hist(xrot=20)"
   ]
  }
 ],
 "metadata": {
  "kernelspec": {
   "display_name": "Python 3",
   "language": "python",
   "name": "python3"
  },
  "language_info": {
   "codemirror_mode": {
    "name": "ipython",
    "version": 3
   },
   "file_extension": ".py",
   "mimetype": "text/x-python",
   "name": "python",
   "nbconvert_exporter": "python",
   "pygments_lexer": "ipython3",
   "version": "3.8.10"
  }
 },
 "nbformat": 4,
 "nbformat_minor": 1
}
