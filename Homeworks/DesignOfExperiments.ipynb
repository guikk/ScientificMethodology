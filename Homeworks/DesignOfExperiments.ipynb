{
 "cells": [
  {
   "cell_type": "markdown",
   "metadata": {},
   "source": [
    "Starting with random values, we'll run 10 replicas"
   ]
  },
  {
   "cell_type": "code",
   "execution_count": 13,
   "metadata": {
    "scrolled": false
   },
   "outputs": [
    {
     "data": {
      "text/html": [
       "'0.133312059799209, 0.875859433785081, 0.518107586540282, 0.928697808180004, 0.77892731456086, 0.51010028924793, 0.920484015718102, 0.962446344085038, 0.527476714923978, 0.0429623052477837, 0.491534008877352'"
      ],
      "text/latex": [
       "'0.133312059799209, 0.875859433785081, 0.518107586540282, 0.928697808180004, 0.77892731456086, 0.51010028924793, 0.920484015718102, 0.962446344085038, 0.527476714923978, 0.0429623052477837, 0.491534008877352'"
      ],
      "text/markdown": [
       "'0.133312059799209, 0.875859433785081, 0.518107586540282, 0.928697808180004, 0.77892731456086, 0.51010028924793, 0.920484015718102, 0.962446344085038, 0.527476714923978, 0.0429623052477837, 0.491534008877352'"
      ],
      "text/plain": [
       "[1] \"0.133312059799209, 0.875859433785081, 0.518107586540282, 0.928697808180004, 0.77892731456086, 0.51010028924793, 0.920484015718102, 0.962446344085038, 0.527476714923978, 0.0429623052477837, 0.491534008877352\""
      ]
     },
     "metadata": {},
     "output_type": "display_data"
    }
   ],
   "source": [
    "paste(as.character(runif(11)), collapse=\", \")"
   ]
  },
  {
   "cell_type": "markdown",
   "metadata": {},
   "source": [
    "Download samples"
   ]
  },
  {
   "cell_type": "code",
   "execution_count": 20,
   "metadata": {},
   "outputs": [],
   "source": [
    "url = \"https://adaphetnodes.shinyapps.io/design_of_experiments/_w_d48bee6e/session/29b169926b866dd268fc083e66234b46/download/downloadData?w=d48bee6e\"\n",
    "download.file(url, \"data/doe_samples.csv\", method=\"auto\")"
   ]
  },
  {
   "cell_type": "markdown",
   "metadata": {},
   "source": [
    "Import data"
   ]
  },
  {
   "cell_type": "code",
   "execution_count": 22,
   "metadata": {},
   "outputs": [
    {
     "data": {
      "text/plain": [
       "                  Date         x1                x2               x3         \n",
       " 2023-02-05-18:57:27:1   Min.   :0.01029   Min.   :0.1878   Min.   :0.06419  \n",
       " 2023-02-05-18:58:50:1   1st Qu.:0.18255   1st Qu.:0.3529   1st Qu.:0.25536  \n",
       " 2023-02-05-18:59:06:1   Median :0.48436   Median :0.7946   Median :0.53834  \n",
       " 2023-02-05-18:59:56:1   Mean   :0.47084   Mean   :0.6396   Mean   :0.50627  \n",
       " 2023-02-05-19:00:08:1   3rd Qu.:0.70855   3rd Qu.:0.8704   3rd Qu.:0.75987  \n",
       " 2023-02-05-19:01:23:1   Max.   :0.94512   Max.   :0.9397   Max.   :0.92943  \n",
       " (Other)            :4                                                       \n",
       "       x4                x5               x6               x7        \n",
       " Min.   :0.09173   Min.   :0.1096   Min.   :0.1751   Min.   :0.2423  \n",
       " 1st Qu.:0.34569   1st Qu.:0.3481   1st Qu.:0.3534   1st Qu.:0.5202  \n",
       " Median :0.69870   Median :0.5020   Median :0.4404   Median :0.6990  \n",
       " Mean   :0.60410   Mean   :0.4999   Mean   :0.5207   Mean   :0.6466  \n",
       " 3rd Qu.:0.81114   3rd Qu.:0.7421   3rd Qu.:0.7532   3rd Qu.:0.7823  \n",
       " Max.   :0.98016   Max.   :0.7789   Max.   :0.9070   Max.   :0.9956  \n",
       "                                                                     \n",
       "       x8               x9              x10               x11        \n",
       " Min.   :0.1229   Min.   :0.0409   Min.   :0.04296   Min.   :0.1301  \n",
       " 1st Qu.:0.3256   1st Qu.:0.3386   1st Qu.:0.32927   1st Qu.:0.2262  \n",
       " Median :0.4606   Median :0.5138   Median :0.42204   Median :0.4711  \n",
       " Mean   :0.5166   Mean   :0.4887   Mean   :0.47171   Mean   :0.4809  \n",
       " 3rd Qu.:0.7607   3rd Qu.:0.7305   3rd Qu.:0.65433   3rd Qu.:0.7496  \n",
       " Max.   :0.9624   Max.   :0.8014   Max.   :0.96626   Max.   :0.8340  \n",
       "                                                                     \n",
       "       y          \n",
       " Min.   :-0.1941  \n",
       " 1st Qu.: 0.6179  \n",
       " Median : 0.8794  \n",
       " Mean   : 0.9540  \n",
       " 3rd Qu.: 1.4051  \n",
       " Max.   : 2.2283  \n",
       "                  "
      ]
     },
     "metadata": {},
     "output_type": "display_data"
    }
   ],
   "source": [
    "data = read.csv(\"data/doe_samples.csv\")\n",
    "summary(data)"
   ]
  },
  {
   "cell_type": "markdown",
   "metadata": {},
   "source": [
    "Linear model"
   ]
  },
  {
   "cell_type": "code",
   "execution_count": 27,
   "metadata": {},
   "outputs": [
    {
     "data": {
      "text/plain": [
       "\n",
       "Call:\n",
       "lm(formula = y ~ x1 + x2 + x3 + x4 + x5 + x6 + x7 + x8 + x9 + \n",
       "    x10 + x11, data = data)\n",
       "\n",
       "Residuals:\n",
       "ALL 10 residuals are 0: no residual degrees of freedom!\n",
       "\n",
       "Coefficients: (2 not defined because of singularities)\n",
       "            Estimate Std. Error t value Pr(>|t|)\n",
       "(Intercept)    4.284         NA      NA       NA\n",
       "x1             2.269         NA      NA       NA\n",
       "x2           -18.004         NA      NA       NA\n",
       "x3            14.027         NA      NA       NA\n",
       "x4            13.817         NA      NA       NA\n",
       "x5             6.310         NA      NA       NA\n",
       "x6            -1.986         NA      NA       NA\n",
       "x7             6.734         NA      NA       NA\n",
       "x8            -5.846         NA      NA       NA\n",
       "x9           -24.119         NA      NA       NA\n",
       "x10               NA         NA      NA       NA\n",
       "x11               NA         NA      NA       NA\n",
       "\n",
       "Residual standard error: NaN on 0 degrees of freedom\n",
       "Multiple R-squared:      1,\tAdjusted R-squared:    NaN \n",
       "F-statistic:   NaN on 9 and 0 DF,  p-value: NA\n"
      ]
     },
     "metadata": {},
     "output_type": "display_data"
    }
   ],
   "source": [
    "m0 = lm(y ~ x1+x2+x3+x4+x5+x6+x7+x8+x9+x10+x11, data)\n",
    "summary(m0)"
   ]
  },
  {
   "cell_type": "markdown",
   "metadata": {},
   "source": [
    "> In this first model, x10 and x11 didn't figure in the coefficients, so we better discard them. However, the model as is could not fit all the variables (p-value NA) so we should look for the best candidates."
   ]
  },
  {
   "cell_type": "markdown",
   "metadata": {},
   "source": [
    "Pearson Correlation"
   ]
  },
  {
   "cell_type": "code",
   "execution_count": null,
   "metadata": {},
   "outputs": [],
   "source": [
    "library(\"\")"
   ]
  },
  {
   "cell_type": "code",
   "execution_count": 31,
   "metadata": {
    "scrolled": true
   },
   "outputs": [
    {
     "data": {
      "text/plain": [
       "\n",
       "\tPearson's product-moment correlation\n",
       "\n",
       "data:  data$y and data$x1\n",
       "t = 0.28027, df = 8, p-value = 0.7864\n",
       "alternative hypothesis: true correlation is not equal to 0\n",
       "95 percent confidence interval:\n",
       " -0.5661701  0.6856637\n",
       "sample estimates:\n",
       "       cor \n",
       "0.09860729 \n"
      ]
     },
     "metadata": {},
     "output_type": "display_data"
    },
    {
     "data": {
      "text/plain": [
       "\n",
       "\tPearson's product-moment correlation\n",
       "\n",
       "data:  data$y and data$x2\n",
       "t = 1.4189, df = 8, p-value = 0.1937\n",
       "alternative hypothesis: true correlation is not equal to 0\n",
       "95 percent confidence interval:\n",
       " -0.2525272  0.8406786\n",
       "sample estimates:\n",
       "      cor \n",
       "0.4483925 \n"
      ]
     },
     "metadata": {},
     "output_type": "display_data"
    },
    {
     "data": {
      "text/plain": [
       "\n",
       "\tPearson's product-moment correlation\n",
       "\n",
       "data:  data$y and data$x3\n",
       "t = -0.73964, df = 8, p-value = 0.4807\n",
       "alternative hypothesis: true correlation is not equal to 0\n",
       "95 percent confidence interval:\n",
       " -0.7613454  0.4479923\n",
       "sample estimates:\n",
       "      cor \n",
       "-0.252996 \n"
      ]
     },
     "metadata": {},
     "output_type": "display_data"
    },
    {
     "data": {
      "text/plain": [
       "\n",
       "\tPearson's product-moment correlation\n",
       "\n",
       "data:  data$y and data$x4\n",
       "t = -0.96069, df = 8, p-value = 0.3648\n",
       "alternative hypothesis: true correlation is not equal to 0\n",
       "95 percent confidence interval:\n",
       " -0.7910524  0.3862254\n",
       "sample estimates:\n",
       "      cor \n",
       "-0.321609 \n"
      ]
     },
     "metadata": {},
     "output_type": "display_data"
    },
    {
     "data": {
      "text/plain": [
       "\n",
       "\tPearson's product-moment correlation\n",
       "\n",
       "data:  data$y and data$x5\n",
       "t = -0.32277, df = 8, p-value = 0.7551\n",
       "alternative hypothesis: true correlation is not equal to 0\n",
       "95 percent confidence interval:\n",
       " -0.6934990  0.5559332\n",
       "sample estimates:\n",
       "       cor \n",
       "-0.1133793 \n"
      ]
     },
     "metadata": {},
     "output_type": "display_data"
    },
    {
     "data": {
      "text/plain": [
       "\n",
       "\tPearson's product-moment correlation\n",
       "\n",
       "data:  data$y and data$x6\n",
       "t = -0.4782, df = 8, p-value = 0.6453\n",
       "alternative hypothesis: true correlation is not equal to 0\n",
       "95 percent confidence interval:\n",
       " -0.7206865  0.5172087\n",
       "sample estimates:\n",
       "       cor \n",
       "-0.1667047 \n"
      ]
     },
     "metadata": {},
     "output_type": "display_data"
    },
    {
     "data": {
      "text/plain": [
       "\n",
       "\tPearson's product-moment correlation\n",
       "\n",
       "data:  data$y and data$x7\n",
       "t = 0.53948, df = 8, p-value = 0.6042\n",
       "alternative hypothesis: true correlation is not equal to 0\n",
       "95 percent confidence interval:\n",
       " -0.5014178  0.7307781\n",
       "sample estimates:\n",
       "      cor \n",
       "0.1873588 \n"
      ]
     },
     "metadata": {},
     "output_type": "display_data"
    },
    {
     "data": {
      "text/plain": [
       "\n",
       "\tPearson's product-moment correlation\n",
       "\n",
       "data:  data$y and data$x8\n",
       "t = -0.44407, df = 8, p-value = 0.6688\n",
       "alternative hypothesis: true correlation is not equal to 0\n",
       "95 percent confidence interval:\n",
       " -0.7149122  0.5258804\n",
       "sample estimates:\n",
       "       cor \n",
       "-0.1551012 \n"
      ]
     },
     "metadata": {},
     "output_type": "display_data"
    },
    {
     "data": {
      "text/plain": [
       "\n",
       "\tPearson's product-moment correlation\n",
       "\n",
       "data:  data$y and data$x9\n",
       "t = -3.7401, df = 8, p-value = 0.005705\n",
       "alternative hypothesis: true correlation is not equal to 0\n",
       "95 percent confidence interval:\n",
       " -0.9500972 -0.3374263\n",
       "sample estimates:\n",
       "       cor \n",
       "-0.7976004 \n"
      ]
     },
     "metadata": {},
     "output_type": "display_data"
    }
   ],
   "source": [
    "cor.test(data$y,data$x1)\n",
    "cor.test(data$y,data$x2)\n",
    "cor.test(data$y,data$x3)\n",
    "cor.test(data$y,data$x4)\n",
    "cor.test(data$y,data$x5)\n",
    "cor.test(data$y,data$x6)\n",
    "cor.test(data$y,data$x7)\n",
    "cor.test(data$y,data$x8)\n",
    "cor.test(data$y,data$x9)"
   ]
  },
  {
   "cell_type": "markdown",
   "metadata": {},
   "source": [
    "> The absolute correlation winner is x9, but we cannot rely on a single variable. Let's build a second model with the best 3 variables.\n",
    "\n",
    "**x9, x2 and x4**"
   ]
  },
  {
   "cell_type": "code",
   "execution_count": 32,
   "metadata": {
    "scrolled": true
   },
   "outputs": [
    {
     "data": {
      "text/plain": [
       "\n",
       "Call:\n",
       "lm(formula = y ~ x9 + x2 + x4, data = data)\n",
       "\n",
       "Residuals:\n",
       "     Min       1Q   Median       3Q      Max \n",
       "-0.69846 -0.30232 -0.00339  0.24918  0.75990 \n",
       "\n",
       "Coefficients:\n",
       "            Estimate Std. Error t value Pr(>|t|)  \n",
       "(Intercept)  2.34117    0.82175   2.849   0.0292 *\n",
       "x9          -2.17063    0.89939  -2.413   0.0523 .\n",
       "x2          -0.06158    0.79437  -0.078   0.9407  \n",
       "x4          -0.47502    0.60346  -0.787   0.4611  \n",
       "---\n",
       "Signif. codes:  0 ‘***’ 0.001 ‘**’ 0.01 ‘*’ 0.05 ‘.’ 0.1 ‘ ’ 1\n",
       "\n",
       "Residual standard error: 0.5176 on 6 degrees of freedom\n",
       "Multiple R-squared:  0.6774,\tAdjusted R-squared:  0.5161 \n",
       "F-statistic:   4.2 on 3 and 6 DF,  p-value: 0.06388\n"
      ]
     },
     "metadata": {},
     "output_type": "display_data"
    }
   ],
   "source": [
    "m1 = lm(y ~ x9 + x2 + x4, data)\n",
    "summary(m1)"
   ]
  },
  {
   "cell_type": "markdown",
   "metadata": {},
   "source": [
    "> Already better. Now we made a valid model. Yet, it is still not good, with a coefficient of determination of only 67.74%. Let's add more variables to see if the R² value increases. The choice criterium will still be the smallest correlation p-value. "
   ]
  },
  {
   "cell_type": "code",
   "execution_count": 38,
   "metadata": {},
   "outputs": [
    {
     "data": {
      "text/plain": [
       "\n",
       "Call:\n",
       "lm(formula = y ~ x9 + x2 + x4 + x3 + x7 + x6 + x8 + x5, data = data)\n",
       "\n",
       "Residuals:\n",
       "        1         2         3         4         5         6         7         8 \n",
       "-0.234325  0.054792 -0.062532  0.108777  0.133882 -0.006281 -0.053401  0.067052 \n",
       "        9        10 \n",
       " 0.044492 -0.052455 \n",
       "\n",
       "Coefficients:\n",
       "            Estimate Std. Error t value Pr(>|t|)\n",
       "(Intercept)   2.8147     0.7370   3.819    0.163\n",
       "x9           -5.6769     4.1136  -1.380    0.399\n",
       "x2           -1.4460     3.6259  -0.399    0.758\n",
       "x4            0.9620     2.7090   0.355    0.783\n",
       "x3            1.8143     2.9142   0.623    0.645\n",
       "x7           -0.5322     1.9605  -0.271    0.831\n",
       "x6            0.1190     0.6912   0.172    0.891\n",
       "x8           -1.2851     1.2891  -0.997    0.501\n",
       "x5            2.5703     1.1961   2.149    0.277\n",
       "\n",
       "Residual standard error: 0.322 on 1 degrees of freedom\n",
       "Multiple R-squared:  0.9792,\tAdjusted R-squared:  0.8127 \n",
       "F-statistic: 5.883 on 8 and 1 DF,  p-value: 0.3091\n"
      ]
     },
     "metadata": {},
     "output_type": "display_data"
    }
   ],
   "source": [
    "m2 = lm(y ~ x9 + x2 + x4 + x3 + x7 + x6 + x8 + x5, data)\n",
    "summary(m2)"
   ]
  },
  {
   "cell_type": "markdown",
   "metadata": {},
   "source": [
    "> Chosing all variables but x1, x10 and x11 we got to a coefficient of determination of 97.92%! That will do."
   ]
  },
  {
   "cell_type": "code",
   "execution_count": null,
   "metadata": {},
   "outputs": [],
   "source": []
  }
 ],
 "metadata": {
  "kernelspec": {
   "display_name": "R",
   "language": "R",
   "name": "ir"
  },
  "language_info": {
   "codemirror_mode": "r",
   "file_extension": ".r",
   "mimetype": "text/x-r-source",
   "name": "R",
   "pygments_lexer": "r",
   "version": "3.6.3"
  }
 },
 "nbformat": 4,
 "nbformat_minor": 4
}
