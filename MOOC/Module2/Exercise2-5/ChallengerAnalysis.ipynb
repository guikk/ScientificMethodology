{
 "cells": [
  {
   "cell_type": "markdown",
   "metadata": {},
   "source": [
    "## Challenger Data Analysis\n",
    "\n",
    "### Insight\n",
    "\n",
    "Comparing below the results of the plots and the regression models there is a slight difference pointing to pressure affecting more the probability of malfunctioning flights."
   ]
  },
  {
   "cell_type": "code",
   "execution_count": 21,
   "metadata": {},
   "outputs": [],
   "source": [
    "library(\"dplyr\")\n",
    "library(\"ggplot2\")"
   ]
  },
  {
   "cell_type": "code",
   "execution_count": 34,
   "metadata": {
    "scrolled": true
   },
   "outputs": [
    {
     "data": {
      "text/plain": [
       "       Date        Count    Temperature       Pressure      Malfunction    \n",
       " 1/12/86 : 1   Min.   :6   Min.   :53.00   Min.   : 50.0   Min.   :0.0000  \n",
       " 1/24/85 : 1   1st Qu.:6   1st Qu.:67.00   1st Qu.: 75.0   1st Qu.:0.0000  \n",
       " 10/03/85: 1   Median :6   Median :70.00   Median :200.0   Median :0.0000  \n",
       " 10/05/84: 1   Mean   :6   Mean   :69.57   Mean   :152.2   Mean   :0.3913  \n",
       " 10/30/85: 1   3rd Qu.:6   3rd Qu.:75.00   3rd Qu.:200.0   3rd Qu.:1.0000  \n",
       " 11/08/84: 1   Max.   :6   Max.   :81.00   Max.   :200.0   Max.   :2.0000  \n",
       " (Other) :17                                                               "
      ]
     },
     "metadata": {},
     "output_type": "display_data"
    },
    {
     "data": {
      "text/html": [
       "<table class=\"dataframe\">\n",
       "<caption>A data.frame: 23 × 5</caption>\n",
       "<thead>\n",
       "\t<tr><th scope=col>Date</th><th scope=col>Count</th><th scope=col>Temperature</th><th scope=col>Pressure</th><th scope=col>Malfunction</th></tr>\n",
       "\t<tr><th scope=col>&lt;fct&gt;</th><th scope=col>&lt;int&gt;</th><th scope=col>&lt;int&gt;</th><th scope=col>&lt;int&gt;</th><th scope=col>&lt;int&gt;</th></tr>\n",
       "</thead>\n",
       "<tbody>\n",
       "\t<tr><td>4/12/81 </td><td>6</td><td>66</td><td> 50</td><td>0</td></tr>\n",
       "\t<tr><td>11/12/81</td><td>6</td><td>70</td><td> 50</td><td>1</td></tr>\n",
       "\t<tr><td>3/22/82 </td><td>6</td><td>69</td><td> 50</td><td>0</td></tr>\n",
       "\t<tr><td>11/11/82</td><td>6</td><td>68</td><td> 50</td><td>0</td></tr>\n",
       "\t<tr><td>4/04/83 </td><td>6</td><td>67</td><td> 50</td><td>0</td></tr>\n",
       "\t<tr><td>6/18/82 </td><td>6</td><td>72</td><td> 50</td><td>0</td></tr>\n",
       "\t<tr><td>8/30/83 </td><td>6</td><td>73</td><td>100</td><td>0</td></tr>\n",
       "\t<tr><td>11/28/83</td><td>6</td><td>70</td><td>100</td><td>0</td></tr>\n",
       "\t<tr><td>2/03/84 </td><td>6</td><td>57</td><td>200</td><td>1</td></tr>\n",
       "\t<tr><td>4/06/84 </td><td>6</td><td>63</td><td>200</td><td>1</td></tr>\n",
       "\t<tr><td>8/30/84 </td><td>6</td><td>70</td><td>200</td><td>1</td></tr>\n",
       "\t<tr><td>10/05/84</td><td>6</td><td>78</td><td>200</td><td>0</td></tr>\n",
       "\t<tr><td>11/08/84</td><td>6</td><td>67</td><td>200</td><td>0</td></tr>\n",
       "\t<tr><td>1/24/85 </td><td>6</td><td>53</td><td>200</td><td>2</td></tr>\n",
       "\t<tr><td>4/12/85 </td><td>6</td><td>67</td><td>200</td><td>0</td></tr>\n",
       "\t<tr><td>4/29/85 </td><td>6</td><td>75</td><td>200</td><td>0</td></tr>\n",
       "\t<tr><td>6/17/85 </td><td>6</td><td>70</td><td>200</td><td>0</td></tr>\n",
       "\t<tr><td>7/29/85 </td><td>6</td><td>81</td><td>200</td><td>0</td></tr>\n",
       "\t<tr><td>8/27/85 </td><td>6</td><td>76</td><td>200</td><td>0</td></tr>\n",
       "\t<tr><td>10/03/85</td><td>6</td><td>79</td><td>200</td><td>0</td></tr>\n",
       "\t<tr><td>10/30/85</td><td>6</td><td>75</td><td>200</td><td>2</td></tr>\n",
       "\t<tr><td>11/26/85</td><td>6</td><td>76</td><td>200</td><td>0</td></tr>\n",
       "\t<tr><td>1/12/86 </td><td>6</td><td>58</td><td>200</td><td>1</td></tr>\n",
       "</tbody>\n",
       "</table>\n"
      ],
      "text/latex": [
       "A data.frame: 23 × 5\n",
       "\\begin{tabular}{lllll}\n",
       " Date & Count & Temperature & Pressure & Malfunction\\\\\n",
       " <fct> & <int> & <int> & <int> & <int>\\\\\n",
       "\\hline\n",
       "\t 4/12/81  & 6 & 66 &  50 & 0\\\\\n",
       "\t 11/12/81 & 6 & 70 &  50 & 1\\\\\n",
       "\t 3/22/82  & 6 & 69 &  50 & 0\\\\\n",
       "\t 11/11/82 & 6 & 68 &  50 & 0\\\\\n",
       "\t 4/04/83  & 6 & 67 &  50 & 0\\\\\n",
       "\t 6/18/82  & 6 & 72 &  50 & 0\\\\\n",
       "\t 8/30/83  & 6 & 73 & 100 & 0\\\\\n",
       "\t 11/28/83 & 6 & 70 & 100 & 0\\\\\n",
       "\t 2/03/84  & 6 & 57 & 200 & 1\\\\\n",
       "\t 4/06/84  & 6 & 63 & 200 & 1\\\\\n",
       "\t 8/30/84  & 6 & 70 & 200 & 1\\\\\n",
       "\t 10/05/84 & 6 & 78 & 200 & 0\\\\\n",
       "\t 11/08/84 & 6 & 67 & 200 & 0\\\\\n",
       "\t 1/24/85  & 6 & 53 & 200 & 2\\\\\n",
       "\t 4/12/85  & 6 & 67 & 200 & 0\\\\\n",
       "\t 4/29/85  & 6 & 75 & 200 & 0\\\\\n",
       "\t 6/17/85  & 6 & 70 & 200 & 0\\\\\n",
       "\t 7/29/85  & 6 & 81 & 200 & 0\\\\\n",
       "\t 8/27/85  & 6 & 76 & 200 & 0\\\\\n",
       "\t 10/03/85 & 6 & 79 & 200 & 0\\\\\n",
       "\t 10/30/85 & 6 & 75 & 200 & 2\\\\\n",
       "\t 11/26/85 & 6 & 76 & 200 & 0\\\\\n",
       "\t 1/12/86  & 6 & 58 & 200 & 1\\\\\n",
       "\\end{tabular}\n"
      ],
      "text/markdown": [
       "\n",
       "A data.frame: 23 × 5\n",
       "\n",
       "| Date &lt;fct&gt; | Count &lt;int&gt; | Temperature &lt;int&gt; | Pressure &lt;int&gt; | Malfunction &lt;int&gt; |\n",
       "|---|---|---|---|---|\n",
       "| 4/12/81  | 6 | 66 |  50 | 0 |\n",
       "| 11/12/81 | 6 | 70 |  50 | 1 |\n",
       "| 3/22/82  | 6 | 69 |  50 | 0 |\n",
       "| 11/11/82 | 6 | 68 |  50 | 0 |\n",
       "| 4/04/83  | 6 | 67 |  50 | 0 |\n",
       "| 6/18/82  | 6 | 72 |  50 | 0 |\n",
       "| 8/30/83  | 6 | 73 | 100 | 0 |\n",
       "| 11/28/83 | 6 | 70 | 100 | 0 |\n",
       "| 2/03/84  | 6 | 57 | 200 | 1 |\n",
       "| 4/06/84  | 6 | 63 | 200 | 1 |\n",
       "| 8/30/84  | 6 | 70 | 200 | 1 |\n",
       "| 10/05/84 | 6 | 78 | 200 | 0 |\n",
       "| 11/08/84 | 6 | 67 | 200 | 0 |\n",
       "| 1/24/85  | 6 | 53 | 200 | 2 |\n",
       "| 4/12/85  | 6 | 67 | 200 | 0 |\n",
       "| 4/29/85  | 6 | 75 | 200 | 0 |\n",
       "| 6/17/85  | 6 | 70 | 200 | 0 |\n",
       "| 7/29/85  | 6 | 81 | 200 | 0 |\n",
       "| 8/27/85  | 6 | 76 | 200 | 0 |\n",
       "| 10/03/85 | 6 | 79 | 200 | 0 |\n",
       "| 10/30/85 | 6 | 75 | 200 | 2 |\n",
       "| 11/26/85 | 6 | 76 | 200 | 0 |\n",
       "| 1/12/86  | 6 | 58 | 200 | 1 |\n",
       "\n"
      ],
      "text/plain": [
       "   Date     Count Temperature Pressure Malfunction\n",
       "1  4/12/81  6     66           50      0          \n",
       "2  11/12/81 6     70           50      1          \n",
       "3  3/22/82  6     69           50      0          \n",
       "4  11/11/82 6     68           50      0          \n",
       "5  4/04/83  6     67           50      0          \n",
       "6  6/18/82  6     72           50      0          \n",
       "7  8/30/83  6     73          100      0          \n",
       "8  11/28/83 6     70          100      0          \n",
       "9  2/03/84  6     57          200      1          \n",
       "10 4/06/84  6     63          200      1          \n",
       "11 8/30/84  6     70          200      1          \n",
       "12 10/05/84 6     78          200      0          \n",
       "13 11/08/84 6     67          200      0          \n",
       "14 1/24/85  6     53          200      2          \n",
       "15 4/12/85  6     67          200      0          \n",
       "16 4/29/85  6     75          200      0          \n",
       "17 6/17/85  6     70          200      0          \n",
       "18 7/29/85  6     81          200      0          \n",
       "19 8/27/85  6     76          200      0          \n",
       "20 10/03/85 6     79          200      0          \n",
       "21 10/30/85 6     75          200      2          \n",
       "22 11/26/85 6     76          200      0          \n",
       "23 1/12/86  6     58          200      1          "
      ]
     },
     "metadata": {},
     "output_type": "display_data"
    }
   ],
   "source": [
    "data <- read.csv(\"shuttle.csv\")\n",
    "summary(data)\n",
    "data"
   ]
  },
  {
   "cell_type": "code",
   "execution_count": 27,
   "metadata": {},
   "outputs": [
    {
     "data": {
      "text/html": [
       "<table class=\"dataframe\">\n",
       "<caption>A data.frame: 7 × 5</caption>\n",
       "<thead>\n",
       "\t<tr><th scope=col>Date</th><th scope=col>Count</th><th scope=col>Temperature</th><th scope=col>Pressure</th><th scope=col>Malfunction</th></tr>\n",
       "\t<tr><th scope=col>&lt;fct&gt;</th><th scope=col>&lt;int&gt;</th><th scope=col>&lt;int&gt;</th><th scope=col>&lt;int&gt;</th><th scope=col>&lt;int&gt;</th></tr>\n",
       "</thead>\n",
       "<tbody>\n",
       "\t<tr><td>11/12/81</td><td>6</td><td>70</td><td> 50</td><td>1</td></tr>\n",
       "\t<tr><td>2/03/84 </td><td>6</td><td>57</td><td>200</td><td>1</td></tr>\n",
       "\t<tr><td>4/06/84 </td><td>6</td><td>63</td><td>200</td><td>1</td></tr>\n",
       "\t<tr><td>8/30/84 </td><td>6</td><td>70</td><td>200</td><td>1</td></tr>\n",
       "\t<tr><td>1/24/85 </td><td>6</td><td>53</td><td>200</td><td>2</td></tr>\n",
       "\t<tr><td>10/30/85</td><td>6</td><td>75</td><td>200</td><td>2</td></tr>\n",
       "\t<tr><td>1/12/86 </td><td>6</td><td>58</td><td>200</td><td>1</td></tr>\n",
       "</tbody>\n",
       "</table>\n"
      ],
      "text/latex": [
       "A data.frame: 7 × 5\n",
       "\\begin{tabular}{lllll}\n",
       " Date & Count & Temperature & Pressure & Malfunction\\\\\n",
       " <fct> & <int> & <int> & <int> & <int>\\\\\n",
       "\\hline\n",
       "\t 11/12/81 & 6 & 70 &  50 & 1\\\\\n",
       "\t 2/03/84  & 6 & 57 & 200 & 1\\\\\n",
       "\t 4/06/84  & 6 & 63 & 200 & 1\\\\\n",
       "\t 8/30/84  & 6 & 70 & 200 & 1\\\\\n",
       "\t 1/24/85  & 6 & 53 & 200 & 2\\\\\n",
       "\t 10/30/85 & 6 & 75 & 200 & 2\\\\\n",
       "\t 1/12/86  & 6 & 58 & 200 & 1\\\\\n",
       "\\end{tabular}\n"
      ],
      "text/markdown": [
       "\n",
       "A data.frame: 7 × 5\n",
       "\n",
       "| Date &lt;fct&gt; | Count &lt;int&gt; | Temperature &lt;int&gt; | Pressure &lt;int&gt; | Malfunction &lt;int&gt; |\n",
       "|---|---|---|---|---|\n",
       "| 11/12/81 | 6 | 70 |  50 | 1 |\n",
       "| 2/03/84  | 6 | 57 | 200 | 1 |\n",
       "| 4/06/84  | 6 | 63 | 200 | 1 |\n",
       "| 8/30/84  | 6 | 70 | 200 | 1 |\n",
       "| 1/24/85  | 6 | 53 | 200 | 2 |\n",
       "| 10/30/85 | 6 | 75 | 200 | 2 |\n",
       "| 1/12/86  | 6 | 58 | 200 | 1 |\n",
       "\n"
      ],
      "text/plain": [
       "  Date     Count Temperature Pressure Malfunction\n",
       "1 11/12/81 6     70           50      1          \n",
       "2 2/03/84  6     57          200      1          \n",
       "3 4/06/84  6     63          200      1          \n",
       "4 8/30/84  6     70          200      1          \n",
       "5 1/24/85  6     53          200      2          \n",
       "6 10/30/85 6     75          200      2          \n",
       "7 1/12/86  6     58          200      1          "
      ]
     },
     "metadata": {},
     "output_type": "display_data"
    }
   ],
   "source": [
    "malfunctionings <- data %>% filter(Malfunction != 0)\n",
    "malfunctionings"
   ]
  },
  {
   "cell_type": "code",
   "execution_count": 39,
   "metadata": {},
   "outputs": [
    {
     "data": {
      "image/png": "[encoded data removed]",
      "text/plain": [
       "plot without title"
      ]
     },
     "metadata": {
      "image/png": {
       "height": 420,
       "width": 420
      }
     },
     "output_type": "display_data"
    }
   ],
   "source": [
    "ggplot(malfunctionings, aes(x=Temperature, y=Malfunction/Count)) +\n",
    "  geom_point() +\n",
    "  coord_cartesian(ylim=c(0,1))"
   ]
  },
  {
   "cell_type": "code",
   "execution_count": 40,
   "metadata": {},
   "outputs": [
    {
     "data": {
      "image/png": "[encoded data removed]",
      "text/plain": [
       "plot without title"
      ]
     },
     "metadata": {
      "image/png": {
       "height": 420,
       "width": 420
      }
     },
     "output_type": "display_data"
    }
   ],
   "source": [
    "ggplot(malfunctionings, aes(x=Pressure, y=Malfunction/Count)) +\n",
    "  geom_point() +\n",
    "  coord_cartesian(ylim=c(0,1))"
   ]
  },
  {
   "cell_type": "code",
   "execution_count": 64,
   "metadata": {},
   "outputs": [
    {
     "data": {
      "image/png": "[encoded data removed]",
      "text/plain": [
       "plot without title"
      ]
     },
     "metadata": {
      "image/png": {
       "height": 420,
       "width": 420
      }
     },
     "output_type": "display_data"
    }
   ],
   "source": [
    "ggplot(data, aes(x=Temperature, y=Pressure)) +\n",
    "  geom_point(aes(size=4, color=Malfunction/Count)) +\n",
    "  scale_colour_gradient2()"
   ]
  },
  {
   "cell_type": "code",
   "execution_count": 67,
   "metadata": {},
   "outputs": [
    {
     "data": {
      "text/plain": [
       "\n",
       "Call:\n",
       "glm(formula = Malfunction/Count ~ Temperature, family = binomial(link = \"logit\"), \n",
       "    data = malfunctionings, weights = Count)\n",
       "\n",
       "Deviance Residuals: \n",
       "      1        2        3        4        5        6        7  \n",
       "-0.3015  -0.2836  -0.2919  -0.3015   0.6891   0.6560  -0.2850  \n",
       "\n",
       "Coefficients:\n",
       "             Estimate Std. Error z value Pr(>|z|)\n",
       "(Intercept) -1.389528   3.195752  -0.435    0.664\n",
       "Temperature  0.001416   0.049773   0.028    0.977\n",
       "\n",
       "(Dispersion parameter for binomial family taken to be 1)\n",
       "\n",
       "    Null deviance: 1.3347  on 6  degrees of freedom\n",
       "Residual deviance: 1.3339  on 5  degrees of freedom\n",
       "AIC: 18.894\n",
       "\n",
       "Number of Fisher Scoring iterations: 4\n"
      ]
     },
     "metadata": {},
     "output_type": "display_data"
    }
   ],
   "source": [
    "summary(glm(\n",
    "    data=malfunctionings,\n",
    "    Malfunction/Count ~ Temperature,\n",
    "    weights=Count,\n",
    "    family=binomial(link='logit')\n",
    "))"
   ]
  },
  {
   "cell_type": "code",
   "execution_count": 68,
   "metadata": {},
   "outputs": [
    {
     "data": {
      "text/plain": [
       "\n",
       "Call:\n",
       "glm(formula = Malfunction/Count ~ Pressure, family = binomial(link = \"logit\"), \n",
       "    data = malfunctionings, weights = Count)\n",
       "\n",
       "Deviance Residuals: \n",
       "      1        2        3        4        5        6        7  \n",
       " 0.0000  -0.3385  -0.3385  -0.3385   0.6234   0.6234  -0.3385  \n",
       "\n",
       "Coefficients:\n",
       "             Estimate Std. Error z value Pr(>|z|)\n",
       "(Intercept) -1.728330   1.466694  -1.178    0.239\n",
       "Pressure     0.002378   0.007777   0.306    0.760\n",
       "\n",
       "(Dispersion parameter for binomial family taken to be 1)\n",
       "\n",
       "    Null deviance: 1.3347  on 6  degrees of freedom\n",
       "Residual deviance: 1.2356  on 5  degrees of freedom\n",
       "AIC: 18.796\n",
       "\n",
       "Number of Fisher Scoring iterations: 4\n"
      ]
     },
     "metadata": {},
     "output_type": "display_data"
    }
   ],
   "source": [
    "summary(glm(\n",
    "    data=malfunctionings,\n",
    "    Malfunction/Count ~ Pressure,\n",
    "    weights=Count,\n",
    "    family=binomial(link='logit')\n",
    "))"
   ]
  }
 ],
 "metadata": {
  "kernelspec": {
   "display_name": "R",
   "language": "R",
   "name": "ir"
  },
  "language_info": {
   "codemirror_mode": "r",
   "file_extension": ".r",
   "mimetype": "text/x-r-source",
   "name": "R",
   "pygments_lexer": "r",
   "version": "3.6.3"
  }
 },
 "nbformat": 4,
 "nbformat_minor": 4
}
